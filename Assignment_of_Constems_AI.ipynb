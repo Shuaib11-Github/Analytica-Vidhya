{
  "nbformat": 4,
  "nbformat_minor": 0,
  "metadata": {
    "colab": {
      "name": "Assignment of Constems AI.ipynb",
      "provenance": [],
      "authorship_tag": "ABX9TyOlrdIpueyf+EN50WVZMzV2",
      "include_colab_link": true
    },
    "kernelspec": {
      "name": "python3",
      "display_name": "Python 3"
    },
    "language_info": {
      "name": "python"
    }
  },
  "cells": [
    {
      "cell_type": "markdown",
      "metadata": {
        "id": "view-in-github",
        "colab_type": "text"
      },
      "source": [
        "<a href=\"https://colab.research.google.com/github/Shuaib11-Github/Analytica-Vidhya/blob/main/Assignment_of_Constems_AI.ipynb\" target=\"_parent\"><img src=\"https://colab.research.google.com/assets/colab-badge.svg\" alt=\"Open In Colab\"/></a>"
      ]
    },
    {
      "cell_type": "markdown",
      "source": [
        "**1) Design a function to generate random numbers without the help of any internal or external library of python(build the function from scratch)**"
      ],
      "metadata": {
        "id": "wXalRE1Kj2Kj"
      }
    },
    {
      "cell_type": "code",
      "execution_count": 1,
      "metadata": {
        "id": "Yp2OVUXjakwK"
      },
      "outputs": [],
      "source": [
        "def random(x,y):\n",
        "  from time import time\n",
        "  r = time() - float(str(time()).split('.')[0])\n",
        "  random = r * (x - y) + y\n",
        "  return random"
      ]
    },
    {
      "cell_type": "code",
      "source": [
        "### Random Float\n",
        "random(1, 10)"
      ],
      "metadata": {
        "colab": {
          "base_uri": "https://localhost:8080/"
        },
        "id": "jW0J8sOyeBy7",
        "outputId": "cb2f3714-1b9d-41de-9159-c655dfc3072c"
      },
      "execution_count": 2,
      "outputs": [
        {
          "output_type": "execute_result",
          "data": {
            "text/plain": [
              "9.189013719558716"
            ]
          },
          "metadata": {},
          "execution_count": 2
        }
      ]
    },
    {
      "cell_type": "code",
      "source": [
        "### Random Integer\n",
        "random_integer = int(random(1, 10000))\n",
        "random_integer"
      ],
      "metadata": {
        "colab": {
          "base_uri": "https://localhost:8080/"
        },
        "id": "VSMLAKygg2xF",
        "outputId": "2cfbd958-daa9-4266-833d-6f9670ee3d89"
      },
      "execution_count": 5,
      "outputs": [
        {
          "output_type": "execute_result",
          "data": {
            "text/plain": [
              "3414"
            ]
          },
          "metadata": {},
          "execution_count": 5
        }
      ]
    },
    {
      "cell_type": "markdown",
      "source": [
        "**2) Prove that the function is generating random numbers by plotting the generated points with any visualization library of python(for example matplotlib).**"
      ],
      "metadata": {
        "id": "6UPK8qO2kTSU"
      }
    },
    {
      "cell_type": "code",
      "source": [
        "import matplotlib.pyplot as plt\n",
        "\n",
        "for i in range(1,5):\n",
        "  plt.figure(figsize = (10,8))\n",
        "  plt.subplot(2,2,i)\n",
        "  plt.hist(int(random(1, 10000)), edgecolor = 'k')\n",
        "  plt.xticks(fontsize = 15)\n",
        "  plt.yticks(fontsize = 15)\n",
        "  plt.xlim(1, 10000)\n",
        "  plt.show()"
      ],
      "metadata": {
        "colab": {
          "base_uri": "https://localhost:8080/",
          "height": 953
        },
        "id": "6d9voY0Hg5rC",
        "outputId": "40f6d7c7-1690-47d5-f198-6d0f26e61dc5"
      },
      "execution_count": 11,
      "outputs": [
        {
          "output_type": "display_data",
          "data": {
            "text/plain": [
              "<Figure size 720x576 with 1 Axes>"
            ],
            "image/png": "[encoded data removed]"
          },
          "metadata": {
            "needs_background": "light"
          }
        },
        {
          "output_type": "display_data",
          "data": {
            "text/plain": [
              "<Figure size 720x576 with 1 Axes>"
            ],
            "image/png": "[encoded data removed]"
          },
          "metadata": {
            "needs_background": "light"
          }
        },
        {
          "output_type": "display_data",
          "data": {
            "text/plain": [
              "<Figure size 720x576 with 1 Axes>"
            ],
            "image/png": "[encoded data removed]"
          },
          "metadata": {
            "needs_background": "light"
          }
        },
        {
          "output_type": "display_data",
          "data": {
            "text/plain": [
              "<Figure size 720x576 with 1 Axes>"
            ],
            "image/png": "[encoded data removed]"
          },
          "metadata": {
            "needs_background": "light"
          }
        }
      ]
    },
    {
      "cell_type": "markdown",
      "source": [
        "**In the above plot you can see that every time the function is running, the function is gererating different random numbers which can be seen by visualising the plots. Hence Proved**"
      ],
      "metadata": {
        "id": "9BKac0gGo-h0"
      }
    },
    {
      "cell_type": "markdown",
      "source": [
        "**3) Predict the value of pi(3.14 ) (upto two decimal places) with the help of the function created in 1st question!**\n",
        "\n",
        "### using leibniz formula"
      ],
      "metadata": {
        "id": "7Oin5RNukHxK"
      }
    },
    {
      "cell_type": "code",
      "source": [
        "pi = 1\n",
        "for i in range(1, random_integer):\n",
        "  pi += ((-1) ** i) * (1 / (2 * i + 1)) ### Leibniz formula\n",
        "print(f'The value of pi is: {round(pi * 4, 2)}')"
      ],
      "metadata": {
        "colab": {
          "base_uri": "https://localhost:8080/"
        },
        "id": "H69ntyVfhGQv",
        "outputId": "804b8644-1f9a-482d-f7f1-98284b568bea"
      },
      "execution_count": 12,
      "outputs": [
        {
          "output_type": "stream",
          "name": "stdout",
          "text": [
            "The value of pi is: 3.14\n"
          ]
        }
      ]
    },
    {
      "cell_type": "code",
      "source": [
        ""
      ],
      "metadata": {
        "id": "v9LK-0HilF7G"
      },
      "execution_count": null,
      "outputs": []
    }
  ]
}